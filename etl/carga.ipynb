{
 "cells": [
  {
   "cell_type": "markdown",
   "metadata": {},
   "source": [
    "### Importações"
   ]
  },
  {
   "cell_type": "code",
   "execution_count": 41,
   "metadata": {},
   "outputs": [],
   "source": [
    "import pandas as pd\n",
    "import pyodbc"
   ]
  },
  {
   "cell_type": "markdown",
   "metadata": {},
   "source": [
    "### Criar conexão com o banco"
   ]
  },
  {
   "cell_type": "code",
   "execution_count": 42,
   "metadata": {},
   "outputs": [],
   "source": [
    "driver = \"ODBC Driver 18 for SQL Server\"\n",
    "server = \"localhost\"\n",
    "database = \"ETL_STAGE\"\n",
    "username = \"sa\"\n",
    "password = \"Admin@123\"\n",
    "\n",
    "connectionString = f'DRIVER={driver};SERVER={server};DATABASE={database};UID={username};PWD={password};Encrypt=No;'\n",
    "connection = pyodbc.connect(connectionString)\n",
    "\n",
    "cursor = connection.cursor() "
   ]
  },
  {
   "cell_type": "markdown",
   "metadata": {},
   "source": [
    "### Inserir dados de distribuidora"
   ]
  },
  {
   "cell_type": "code",
   "execution_count": 43,
   "metadata": {},
   "outputs": [
    {
     "name": "stdout",
     "output_type": "stream",
     "text": [
      "Dados inseridos na tabela 'DistribuidoraFilmes'\n"
     ]
    }
   ],
   "source": [
    "try:\n",
    "  df_distribuidora = pd.read_excel(\"DistribuidoraDeFilmes.xlsx\")\n",
    "  cursor.execute(\"DELETE FROM [DistribuidoraFilmes]\")\n",
    "  df_distribuidora.rename(columns={'Distribuidora de Filmes': 'DescricaoDistribuidora'}, inplace = True)\n",
    "  for index, row in df_distribuidora.iterrows():\n",
    "    cursor.execute(\"Insert into [DistribuidoraFilmes](IdDistribuidora,DescricaoDistribuidora)values(?,?)\", int(row.name + 1), row.DescricaoDistribuidora)\n",
    "  cursor.commit()\n",
    "except Exception as e:\n",
    "  cursor.rollback()\n",
    "  print(\"Houve um erro ao inserir na tabela 'DistribuidoraFilmes'\")\n",
    "  raise e\n",
    "finally:\n",
    "  print(\"Dados inseridos na tabela 'DistribuidoraFilmes'\")"
   ]
  },
  {
   "cell_type": "markdown",
   "metadata": {},
   "source": [
    "### Inserir dados de Gênero"
   ]
  },
  {
   "cell_type": "code",
   "execution_count": 44,
   "metadata": {},
   "outputs": [
    {
     "name": "stdout",
     "output_type": "stream",
     "text": [
      "Dados inseridos na tabela 'GeneroFilmes'\n"
     ]
    }
   ],
   "source": [
    "try:\n",
    "  df_genero = pd.read_excel(\"Gêneros.xlsx\")\n",
    "  cursor.execute(\"DELETE FROM [GeneroFilmes]\")\n",
    "  df_genero.rename(columns={'Gênero': 'DescricaoGenero'}, inplace = True)\n",
    "  for index, row in df_genero.iterrows():\n",
    "    cursor.execute(\"Insert into [GeneroFilmes](IdGenero,DescricaoGenero)values(?,?)\", int(index + 1), row.DescricaoGenero)\n",
    "  cursor.commit()\n",
    "except Exception as e:\n",
    "  cursor.rollback()\n",
    "  print(\"Houve um erro ao inserir na tabela 'GeneroFilmes'\")\n",
    "  raise e\n",
    "finally:\n",
    "  print(\"Dados inseridos na tabela 'GeneroFilmes'\")"
   ]
  },
  {
   "cell_type": "markdown",
   "metadata": {},
   "source": [
    "### Inserir dados de Paises"
   ]
  },
  {
   "cell_type": "code",
   "execution_count": 45,
   "metadata": {},
   "outputs": [
    {
     "name": "stdout",
     "output_type": "stream",
     "text": [
      "Dados inseridos na tabela 'Paises'\n"
     ]
    }
   ],
   "source": [
    "try:\n",
    "  df_pais = pd.read_excel(\"Paises.xlsx\")\n",
    "  df_pais.rename(columns={'País(es) produtor(es) da obra': 'DescricaoPaises'}, inplace = True)\n",
    "  cursor.execute(\"DELETE FROM [Paises]\")\n",
    "  for index, row in df_pais.iterrows():\n",
    "    cursor.execute(\"Insert into [Paises](IdPaises,DescricaoPaises)values(?,?)\", int(index + 1), row.DescricaoPaises)\n",
    "  cursor.commit()\n",
    "except Exception as e:\n",
    "  cursor.rollback()\n",
    "  print(\"Houve um erro ao inserir na tabela 'Paises'\")\n",
    "  raise e\n",
    "finally:\n",
    "  print(\"Dados inseridos na tabela 'Paises'\")"
   ]
  },
  {
   "cell_type": "markdown",
   "metadata": {},
   "source": [
    "### Inserir dados da Tabela Principal"
   ]
  },
  {
   "cell_type": "code",
   "execution_count": 46,
   "metadata": {},
   "outputs": [
    {
     "name": "stdout",
     "output_type": "stream",
     "text": [
      "Dados inseridos na tabela 'FilmesLancados'\n"
     ]
    }
   ],
   "source": [
    "try:\n",
    "  df_tabela_principal = pd.read_excel(\"TabelaPrincipal.xlsx\")\n",
    "  df_tabela_principal.drop(columns={\"Ano de exibição\", \"CPB/ROE\", \"Origem da empresa distribuidora\"}, inplace=True)\n",
    "  df_tabela_principal.rename(columns={\n",
    "    \"Título da obra\": \"TituloFilme\",\n",
    "    \"Gênero\": \"GeneroFilme\",\n",
    "    \"País(es) produtor(es) da obra\": \"PaisFilme\",\n",
    "    \"Nacionalidade da obra\": \"NacionalidadeFilme\",\n",
    "    \"Data de lançamento\": \"DatadeLancamento\",\n",
    "    \"Distribuidora\": \"DistribuidoraFilme\",\n",
    "    \"Público no ano de exibição\": \"PublicoAnoExibicao\",\n",
    "    \"Renda (R$) no ano de exibição\": \"RendaAnoExibicao\"}, inplace=True)\n",
    "  df_tabela_principal[\"DatadeLancamento\"] = pd.to_datetime(df_tabela_principal[\"DatadeLancamento\"], format=f'%d/%m/%Y', errors=\"coerce\").dt.date\n",
    "  cursor.execute(\"DELETE FROM [FilmesLancados]\")\n",
    "  for index, row in df_tabela_principal.iterrows():\n",
    "    TituloFilme, GeneroFilme, PaisFilme, NacionalidadeFilme, DatadeLancamento, DistribuidoraFilme, PublicoAnoExibicao, RendaAnoExibicao = row\n",
    "    cursor.execute(\n",
    "       \"Insert into [FilmesLancados](IdFilmesLancados,TituloFilme,GeneroFilme,PaisFilme,NacionalidadeFilme,DatadeLancamento,DistribuidoraFilme,PublicoAnoExibicao,RendaAnoExibicao)values(?,?,?,?,?,?,?,?,?)\",\n",
    "       int(index + 1), TituloFilme, GeneroFilme, PaisFilme, NacionalidadeFilme, DatadeLancamento, DistribuidoraFilme, PublicoAnoExibicao, RendaAnoExibicao)\n",
    "  cursor.commit()\n",
    "except Exception as e:\n",
    "  cursor.rollback()  \n",
    "  print(\"Houve um erro ao inserir na tabela 'FilmesLancados'\")\n",
    "  raise e\n",
    "finally:\n",
    "  print(\"Dados inseridos na tabela 'FilmesLancados'\")"
   ]
  },
  {
   "cell_type": "markdown",
   "metadata": {},
   "source": [
    "### Fechando conexões"
   ]
  },
  {
   "cell_type": "code",
   "execution_count": 47,
   "metadata": {},
   "outputs": [
    {
     "name": "stdout",
     "output_type": "stream",
     "text": [
      "Conexão com o banco de dados encerrada\n"
     ]
    }
   ],
   "source": [
    "cursor.close()\n",
    "connection.close()\n",
    "print(\"Conexão com o banco de dados encerrada\")"
   ]
  }
 ],
 "metadata": {
  "kernelspec": {
   "display_name": "Python 3",
   "language": "python",
   "name": "python3"
  },
  "language_info": {
   "codemirror_mode": {
    "name": "ipython",
    "version": 3
   },
   "file_extension": ".py",
   "mimetype": "text/x-python",
   "name": "python",
   "nbconvert_exporter": "python",
   "pygments_lexer": "ipython3",
   "version": "3.11.5"
  }
 },
 "nbformat": 4,
 "nbformat_minor": 2
}
